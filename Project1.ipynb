{
 "cells": [
  {
   "cell_type": "code",
   "execution_count": 2,
   "metadata": {},
   "outputs": [
    {
     "name": "stdout",
     "output_type": "stream",
     "text": [
      "Hello, welcome to use this calculator!\n",
      "Please choose the operation you want to use.\n",
      "1 for addition, 2 for subtraction, 3 for multiplication, 4 for division,\n",
      "5 for exponentiation, 6 for factorial, 7 for absolute value, 8 for determine odd/even,\n",
      "If we haven't provided your desired operation, press 9\n",
      "Please press: 4\n",
      "dividend: 6\n",
      "divisor: 8\n",
      "answer: 0.75\n",
      "Thanks for using this calculator!\n"
     ]
    }
   ],
   "source": [
    "print(\"Hello, welcome to use this calculator!\")\n",
    "print(\"Please choose the operation you want to use.\")\n",
    "#explain ecah specific number represents what kind of operation:\n",
    "print(\"1 for addition, 2 for subtraction, 3 for multiplication, 4 for division,\")\n",
    "print(\"5 for exponentiation, 6 for factorial, 7 for absolute value, 8 for determine odd/even,\")\n",
    "print(\"If we haven't provided your desired operation, press 9\")\n",
    "#input from user:\n",
    "operation_input = int(input(\"Please press: \"))\n",
    "if operation_input == 1:#code for addition\n",
    "    two_or_three_addition = int(input(\"How many numbers you want to add? type 2 or 3: \"))#input from user\n",
    "    if two_or_three_addition == 2:#add two numbers\n",
    "        number1_input = float(input(\"number1: \"))\n",
    "        number2_input = float(input(\"number2: \"))\n",
    "        print(\"answer: \" + str(number1_input + number2_input))\n",
    "    else:#add three numbers\n",
    "        number1a_input = float(input(\"number1: \"))\n",
    "        number2a_input = float(input(\"number2: \"))\n",
    "        number3a_input = float(input(\"number3: \"))\n",
    "        print(\"answer: \" + str(number1a_input + number2a_input + number3a_input))\n",
    "elif operation_input == 2:#code for subtraction\n",
    "    number3_input = float(input(\"first number: \"))\n",
    "    number4_input = float(input(\"second number: \"))\n",
    "    print(\"answer: \" + str(number3_input - number4_input))\n",
    "elif operation_input == 3:#code for multiplication\n",
    "    number5_input = float(input(\"number1: \"))\n",
    "    number6_input = float(input(\"number2: \"))\n",
    "    print(\"answer: \" + str(number5_input * number6_input))\n",
    "elif operation_input == 4:#code for division\n",
    "    number7_input = float(input(\"dividend: \"))\n",
    "    number8_input = float(input(\"divisor: \"))\n",
    "    print(\"answer: \" + str(number7_input / number8_input))\n",
    "elif operation_input == 5:#code for exponentiation\n",
    "    number9_input = float(input(\"number1: \"))\n",
    "    number10_input = float(input(\"number2: \"))\n",
    "    print(\"answer: \" + str(number9_input ** number10_input))\n",
    "elif operation_input == 6:#code for factorial\n",
    "    number11_input = int(input(\"Enter an integer without decimals: \"))\n",
    "    def factorial(n):#Iteration-recursive function\n",
    "        if n == 0:\n",
    "            return 1\n",
    "        else:\n",
    "            return n*factorial(n-1)\n",
    "    print(\"answer: \" + str(factorial(number11_input)))\n",
    "elif operation_input == 7:#code for absolute value\n",
    "    number12_input = float(input(\"number: \"))\n",
    "    print(\"answer: \" + str(abs(number12_input)))\n",
    "elif operation_input == 8:#code for determine the number is odd or even\n",
    "    number13_input = float(input(\"Enter an integer without decimals: \"))\n",
    "    if number13_input % 2 == 0:#means the number is even\n",
    "        print(\"answer: \" + \"even number\")\n",
    "    elif number13_input %2 == 1:#means the number is odd\n",
    "        print(\"answer: \" + \"odd number\")\n",
    "    else:\n",
    "        print(\"Please provide an integer\")\n",
    "elif operation_input == 9:\n",
    "    print(\"Sorry! We will update our calculator.\");\n",
    "else:#user input other numbers beyond 1-9\n",
    "    print(\"System cann't recognize your request!\")\n",
    "print(\"Thanks for using this calculator!\")#ending thanks sentence"
   ]
  }
 ],
 "metadata": {
  "kernelspec": {
   "display_name": "Python 3",
   "language": "python",
   "name": "python3"
  },
  "language_info": {
   "codemirror_mode": {
    "name": "ipython",
    "version": 3
   },
   "file_extension": ".py",
   "mimetype": "text/x-python",
   "name": "python",
   "nbconvert_exporter": "python",
   "pygments_lexer": "ipython3",
   "version": "3.8.5"
  }
 },
 "nbformat": 4,
 "nbformat_minor": 4
}
